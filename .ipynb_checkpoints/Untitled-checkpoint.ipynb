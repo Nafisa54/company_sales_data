{
 "cells": [
  {
   "cell_type": "code",
   "execution_count": 1,
   "id": "ce0250ce",
   "metadata": {},
   "outputs": [],
   "source": [
    "import pandas as pd "
   ]
  },
  {
   "cell_type": "code",
   "execution_count": 3,
   "id": "9a0ede78",
   "metadata": {},
   "outputs": [],
   "source": [
    "df = pd.read_csv(\"automobile_data.csv\")"
   ]
  },
  {
   "cell_type": "markdown",
   "id": "a7845d4e",
   "metadata": {},
   "source": [
    "## first 5 columns##"
   ]
  },
  {
   "cell_type": "code",
   "execution_count": 4,
   "id": "43d8bd8a",
   "metadata": {},
   "outputs": [
    {
     "data": {
      "text/html": [
       "<div>\n",
       "<style scoped>\n",
       "    .dataframe tbody tr th:only-of-type {\n",
       "        vertical-align: middle;\n",
       "    }\n",
       "\n",
       "    .dataframe tbody tr th {\n",
       "        vertical-align: top;\n",
       "    }\n",
       "\n",
       "    .dataframe thead th {\n",
       "        text-align: right;\n",
       "    }\n",
       "</style>\n",
       "<table border=\"1\" class=\"dataframe\">\n",
       "  <thead>\n",
       "    <tr style=\"text-align: right;\">\n",
       "      <th></th>\n",
       "      <th>index</th>\n",
       "      <th>company</th>\n",
       "      <th>body-style</th>\n",
       "      <th>wheel-base</th>\n",
       "      <th>length</th>\n",
       "      <th>engine-type</th>\n",
       "      <th>num-of-cylinders</th>\n",
       "      <th>horsepower</th>\n",
       "      <th>average-mileage</th>\n",
       "      <th>price</th>\n",
       "    </tr>\n",
       "  </thead>\n",
       "  <tbody>\n",
       "    <tr>\n",
       "      <th>0</th>\n",
       "      <td>0</td>\n",
       "      <td>alfa-romero</td>\n",
       "      <td>convertible</td>\n",
       "      <td>88.6</td>\n",
       "      <td>168.8</td>\n",
       "      <td>dohc</td>\n",
       "      <td>four</td>\n",
       "      <td>111</td>\n",
       "      <td>21</td>\n",
       "      <td>13495.0</td>\n",
       "    </tr>\n",
       "    <tr>\n",
       "      <th>1</th>\n",
       "      <td>1</td>\n",
       "      <td>alfa-romero</td>\n",
       "      <td>convertible</td>\n",
       "      <td>88.6</td>\n",
       "      <td>168.8</td>\n",
       "      <td>dohc</td>\n",
       "      <td>four</td>\n",
       "      <td>111</td>\n",
       "      <td>21</td>\n",
       "      <td>16500.0</td>\n",
       "    </tr>\n",
       "    <tr>\n",
       "      <th>2</th>\n",
       "      <td>2</td>\n",
       "      <td>alfa-romero</td>\n",
       "      <td>hatchback</td>\n",
       "      <td>94.5</td>\n",
       "      <td>171.2</td>\n",
       "      <td>ohcv</td>\n",
       "      <td>six</td>\n",
       "      <td>154</td>\n",
       "      <td>19</td>\n",
       "      <td>16500.0</td>\n",
       "    </tr>\n",
       "    <tr>\n",
       "      <th>3</th>\n",
       "      <td>3</td>\n",
       "      <td>audi</td>\n",
       "      <td>sedan</td>\n",
       "      <td>99.8</td>\n",
       "      <td>176.6</td>\n",
       "      <td>ohc</td>\n",
       "      <td>four</td>\n",
       "      <td>102</td>\n",
       "      <td>24</td>\n",
       "      <td>13950.0</td>\n",
       "    </tr>\n",
       "    <tr>\n",
       "      <th>4</th>\n",
       "      <td>4</td>\n",
       "      <td>audi</td>\n",
       "      <td>sedan</td>\n",
       "      <td>99.4</td>\n",
       "      <td>176.6</td>\n",
       "      <td>ohc</td>\n",
       "      <td>five</td>\n",
       "      <td>115</td>\n",
       "      <td>18</td>\n",
       "      <td>17450.0</td>\n",
       "    </tr>\n",
       "  </tbody>\n",
       "</table>\n",
       "</div>"
      ],
      "text/plain": [
       "   index      company   body-style  wheel-base  length engine-type  \\\n",
       "0      0  alfa-romero  convertible        88.6   168.8        dohc   \n",
       "1      1  alfa-romero  convertible        88.6   168.8        dohc   \n",
       "2      2  alfa-romero    hatchback        94.5   171.2        ohcv   \n",
       "3      3         audi        sedan        99.8   176.6         ohc   \n",
       "4      4         audi        sedan        99.4   176.6         ohc   \n",
       "\n",
       "  num-of-cylinders  horsepower  average-mileage    price  \n",
       "0             four         111               21  13495.0  \n",
       "1             four         111               21  16500.0  \n",
       "2              six         154               19  16500.0  \n",
       "3             four         102               24  13950.0  \n",
       "4             five         115               18  17450.0  "
      ]
     },
     "execution_count": 4,
     "metadata": {},
     "output_type": "execute_result"
    }
   ],
   "source": [
    "df.head()"
   ]
  },
  {
   "cell_type": "markdown",
   "id": "6fcc76a5",
   "metadata": {},
   "source": [
    "## last five rows"
   ]
  },
  {
   "cell_type": "code",
   "execution_count": 8,
   "id": "5495a55e",
   "metadata": {},
   "outputs": [
    {
     "data": {
      "text/html": [
       "<div>\n",
       "<style scoped>\n",
       "    .dataframe tbody tr th:only-of-type {\n",
       "        vertical-align: middle;\n",
       "    }\n",
       "\n",
       "    .dataframe tbody tr th {\n",
       "        vertical-align: top;\n",
       "    }\n",
       "\n",
       "    .dataframe thead th {\n",
       "        text-align: right;\n",
       "    }\n",
       "</style>\n",
       "<table border=\"1\" class=\"dataframe\">\n",
       "  <thead>\n",
       "    <tr style=\"text-align: right;\">\n",
       "      <th></th>\n",
       "      <th>index</th>\n",
       "      <th>company</th>\n",
       "      <th>body-style</th>\n",
       "      <th>wheel-base</th>\n",
       "      <th>length</th>\n",
       "      <th>engine-type</th>\n",
       "      <th>num-of-cylinders</th>\n",
       "      <th>horsepower</th>\n",
       "      <th>average-mileage</th>\n",
       "      <th>price</th>\n",
       "    </tr>\n",
       "  </thead>\n",
       "  <tbody>\n",
       "    <tr>\n",
       "      <th>56</th>\n",
       "      <td>81</td>\n",
       "      <td>volkswagen</td>\n",
       "      <td>sedan</td>\n",
       "      <td>97.3</td>\n",
       "      <td>171.7</td>\n",
       "      <td>ohc</td>\n",
       "      <td>four</td>\n",
       "      <td>85</td>\n",
       "      <td>27</td>\n",
       "      <td>7975.0</td>\n",
       "    </tr>\n",
       "    <tr>\n",
       "      <th>57</th>\n",
       "      <td>82</td>\n",
       "      <td>volkswagen</td>\n",
       "      <td>sedan</td>\n",
       "      <td>97.3</td>\n",
       "      <td>171.7</td>\n",
       "      <td>ohc</td>\n",
       "      <td>four</td>\n",
       "      <td>52</td>\n",
       "      <td>37</td>\n",
       "      <td>7995.0</td>\n",
       "    </tr>\n",
       "    <tr>\n",
       "      <th>58</th>\n",
       "      <td>86</td>\n",
       "      <td>volkswagen</td>\n",
       "      <td>sedan</td>\n",
       "      <td>97.3</td>\n",
       "      <td>171.7</td>\n",
       "      <td>ohc</td>\n",
       "      <td>four</td>\n",
       "      <td>100</td>\n",
       "      <td>26</td>\n",
       "      <td>9995.0</td>\n",
       "    </tr>\n",
       "    <tr>\n",
       "      <th>59</th>\n",
       "      <td>87</td>\n",
       "      <td>volvo</td>\n",
       "      <td>sedan</td>\n",
       "      <td>104.3</td>\n",
       "      <td>188.8</td>\n",
       "      <td>ohc</td>\n",
       "      <td>four</td>\n",
       "      <td>114</td>\n",
       "      <td>23</td>\n",
       "      <td>12940.0</td>\n",
       "    </tr>\n",
       "    <tr>\n",
       "      <th>60</th>\n",
       "      <td>88</td>\n",
       "      <td>volvo</td>\n",
       "      <td>wagon</td>\n",
       "      <td>104.3</td>\n",
       "      <td>188.8</td>\n",
       "      <td>ohc</td>\n",
       "      <td>four</td>\n",
       "      <td>114</td>\n",
       "      <td>23</td>\n",
       "      <td>13415.0</td>\n",
       "    </tr>\n",
       "  </tbody>\n",
       "</table>\n",
       "</div>"
      ],
      "text/plain": [
       "    index     company body-style  wheel-base  length engine-type  \\\n",
       "56     81  volkswagen      sedan        97.3   171.7         ohc   \n",
       "57     82  volkswagen      sedan        97.3   171.7         ohc   \n",
       "58     86  volkswagen      sedan        97.3   171.7         ohc   \n",
       "59     87       volvo      sedan       104.3   188.8         ohc   \n",
       "60     88       volvo      wagon       104.3   188.8         ohc   \n",
       "\n",
       "   num-of-cylinders  horsepower  average-mileage    price  \n",
       "56             four          85               27   7975.0  \n",
       "57             four          52               37   7995.0  \n",
       "58             four         100               26   9995.0  \n",
       "59             four         114               23  12940.0  \n",
       "60             four         114               23  13415.0  "
      ]
     },
     "execution_count": 8,
     "metadata": {},
     "output_type": "execute_result"
    }
   ],
   "source": [
    "df.tail()"
   ]
  },
  {
   "cell_type": "code",
   "execution_count": 13,
   "id": "f2e693c3",
   "metadata": {},
   "outputs": [
    {
     "data": {
      "text/plain": [
       "index               False\n",
       "company             False\n",
       "body-style          False\n",
       "wheel-base          False\n",
       "length              False\n",
       "engine-type         False\n",
       "num-of-cylinders    False\n",
       "horsepower          False\n",
       "average-mileage     False\n",
       "price                True\n",
       "dtype: bool"
      ]
     },
     "execution_count": 13,
     "metadata": {},
     "output_type": "execute_result"
    }
   ],
   "source": [
    "df.isnull().any()"
   ]
  },
  {
   "cell_type": "markdown",
   "id": "05d5c1e3",
   "metadata": {},
   "source": [
    "## this dataset have 61 rows and 10 columns##"
   ]
  },
  {
   "cell_type": "code",
   "execution_count": 22,
   "id": "74b036bf",
   "metadata": {},
   "outputs": [
    {
     "data": {
      "text/plain": [
       "(61, 10)"
      ]
     },
     "execution_count": 22,
     "metadata": {},
     "output_type": "execute_result"
    }
   ],
   "source": [
    "df.shape"
   ]
  },
  {
   "cell_type": "markdown",
   "id": "2651e8ad",
   "metadata": {},
   "source": [
    "## multiplication i.e we have a total number of 610 columns and rows##"
   ]
  },
  {
   "cell_type": "code",
   "execution_count": 23,
   "id": "25ca0bca",
   "metadata": {},
   "outputs": [
    {
     "data": {
      "text/plain": [
       "610"
      ]
     },
     "execution_count": 23,
     "metadata": {},
     "output_type": "execute_result"
    }
   ],
   "source": [
    "61*10"
   ]
  },
  {
   "cell_type": "markdown",
   "id": "47ce66a4",
   "metadata": {},
   "source": [
    "## numbers of columns in the datasets##"
   ]
  },
  {
   "cell_type": "code",
   "execution_count": 24,
   "id": "04c5ad2a",
   "metadata": {},
   "outputs": [
    {
     "data": {
      "text/plain": [
       "Index(['index', 'company', 'body-style', 'wheel-base', 'length', 'engine-type',\n",
       "       'num-of-cylinders', 'horsepower', 'average-mileage', 'price'],\n",
       "      dtype='object')"
      ]
     },
     "execution_count": 24,
     "metadata": {},
     "output_type": "execute_result"
    }
   ],
   "source": [
    "df.columns"
   ]
  },
  {
   "cell_type": "markdown",
   "id": "581daece",
   "metadata": {},
   "source": [
    "## checking for missing values##\n",
    "## false means no missing data while true means there is missing data##"
   ]
  },
  {
   "cell_type": "code",
   "execution_count": 27,
   "id": "0debb18a",
   "metadata": {},
   "outputs": [
    {
     "data": {
      "text/plain": [
       "index               False\n",
       "company             False\n",
       "body-style          False\n",
       "wheel-base          False\n",
       "length              False\n",
       "engine-type         False\n",
       "num-of-cylinders    False\n",
       "horsepower          False\n",
       "average-mileage     False\n",
       "price                True\n",
       "dtype: bool"
      ]
     },
     "execution_count": 27,
     "metadata": {},
     "output_type": "execute_result"
    }
   ],
   "source": [
    "df.isnull().any()"
   ]
  },
  {
   "cell_type": "code",
   "execution_count": 28,
   "id": "0af41360",
   "metadata": {},
   "outputs": [
    {
     "data": {
      "text/html": [
       "<div>\n",
       "<style scoped>\n",
       "    .dataframe tbody tr th:only-of-type {\n",
       "        vertical-align: middle;\n",
       "    }\n",
       "\n",
       "    .dataframe tbody tr th {\n",
       "        vertical-align: top;\n",
       "    }\n",
       "\n",
       "    .dataframe thead th {\n",
       "        text-align: right;\n",
       "    }\n",
       "</style>\n",
       "<table border=\"1\" class=\"dataframe\">\n",
       "  <thead>\n",
       "    <tr style=\"text-align: right;\">\n",
       "      <th></th>\n",
       "      <th>index</th>\n",
       "      <th>company</th>\n",
       "      <th>body-style</th>\n",
       "      <th>wheel-base</th>\n",
       "      <th>length</th>\n",
       "      <th>engine-type</th>\n",
       "      <th>num-of-cylinders</th>\n",
       "      <th>horsepower</th>\n",
       "      <th>average-mileage</th>\n",
       "      <th>price</th>\n",
       "    </tr>\n",
       "  </thead>\n",
       "  <tbody>\n",
       "    <tr>\n",
       "      <th>0</th>\n",
       "      <td>False</td>\n",
       "      <td>False</td>\n",
       "      <td>False</td>\n",
       "      <td>False</td>\n",
       "      <td>False</td>\n",
       "      <td>False</td>\n",
       "      <td>False</td>\n",
       "      <td>False</td>\n",
       "      <td>False</td>\n",
       "      <td>False</td>\n",
       "    </tr>\n",
       "    <tr>\n",
       "      <th>1</th>\n",
       "      <td>False</td>\n",
       "      <td>False</td>\n",
       "      <td>False</td>\n",
       "      <td>False</td>\n",
       "      <td>False</td>\n",
       "      <td>False</td>\n",
       "      <td>False</td>\n",
       "      <td>False</td>\n",
       "      <td>False</td>\n",
       "      <td>False</td>\n",
       "    </tr>\n",
       "    <tr>\n",
       "      <th>2</th>\n",
       "      <td>False</td>\n",
       "      <td>False</td>\n",
       "      <td>False</td>\n",
       "      <td>False</td>\n",
       "      <td>False</td>\n",
       "      <td>False</td>\n",
       "      <td>False</td>\n",
       "      <td>False</td>\n",
       "      <td>False</td>\n",
       "      <td>False</td>\n",
       "    </tr>\n",
       "    <tr>\n",
       "      <th>3</th>\n",
       "      <td>False</td>\n",
       "      <td>False</td>\n",
       "      <td>False</td>\n",
       "      <td>False</td>\n",
       "      <td>False</td>\n",
       "      <td>False</td>\n",
       "      <td>False</td>\n",
       "      <td>False</td>\n",
       "      <td>False</td>\n",
       "      <td>False</td>\n",
       "    </tr>\n",
       "    <tr>\n",
       "      <th>4</th>\n",
       "      <td>False</td>\n",
       "      <td>False</td>\n",
       "      <td>False</td>\n",
       "      <td>False</td>\n",
       "      <td>False</td>\n",
       "      <td>False</td>\n",
       "      <td>False</td>\n",
       "      <td>False</td>\n",
       "      <td>False</td>\n",
       "      <td>False</td>\n",
       "    </tr>\n",
       "    <tr>\n",
       "      <th>...</th>\n",
       "      <td>...</td>\n",
       "      <td>...</td>\n",
       "      <td>...</td>\n",
       "      <td>...</td>\n",
       "      <td>...</td>\n",
       "      <td>...</td>\n",
       "      <td>...</td>\n",
       "      <td>...</td>\n",
       "      <td>...</td>\n",
       "      <td>...</td>\n",
       "    </tr>\n",
       "    <tr>\n",
       "      <th>56</th>\n",
       "      <td>False</td>\n",
       "      <td>False</td>\n",
       "      <td>False</td>\n",
       "      <td>False</td>\n",
       "      <td>False</td>\n",
       "      <td>False</td>\n",
       "      <td>False</td>\n",
       "      <td>False</td>\n",
       "      <td>False</td>\n",
       "      <td>False</td>\n",
       "    </tr>\n",
       "    <tr>\n",
       "      <th>57</th>\n",
       "      <td>False</td>\n",
       "      <td>False</td>\n",
       "      <td>False</td>\n",
       "      <td>False</td>\n",
       "      <td>False</td>\n",
       "      <td>False</td>\n",
       "      <td>False</td>\n",
       "      <td>False</td>\n",
       "      <td>False</td>\n",
       "      <td>False</td>\n",
       "    </tr>\n",
       "    <tr>\n",
       "      <th>58</th>\n",
       "      <td>False</td>\n",
       "      <td>False</td>\n",
       "      <td>False</td>\n",
       "      <td>False</td>\n",
       "      <td>False</td>\n",
       "      <td>False</td>\n",
       "      <td>False</td>\n",
       "      <td>False</td>\n",
       "      <td>False</td>\n",
       "      <td>False</td>\n",
       "    </tr>\n",
       "    <tr>\n",
       "      <th>59</th>\n",
       "      <td>False</td>\n",
       "      <td>False</td>\n",
       "      <td>False</td>\n",
       "      <td>False</td>\n",
       "      <td>False</td>\n",
       "      <td>False</td>\n",
       "      <td>False</td>\n",
       "      <td>False</td>\n",
       "      <td>False</td>\n",
       "      <td>False</td>\n",
       "    </tr>\n",
       "    <tr>\n",
       "      <th>60</th>\n",
       "      <td>False</td>\n",
       "      <td>False</td>\n",
       "      <td>False</td>\n",
       "      <td>False</td>\n",
       "      <td>False</td>\n",
       "      <td>False</td>\n",
       "      <td>False</td>\n",
       "      <td>False</td>\n",
       "      <td>False</td>\n",
       "      <td>False</td>\n",
       "    </tr>\n",
       "  </tbody>\n",
       "</table>\n",
       "<p>61 rows × 10 columns</p>\n",
       "</div>"
      ],
      "text/plain": [
       "    index  company  body-style  wheel-base  length  engine-type  \\\n",
       "0   False    False       False       False   False        False   \n",
       "1   False    False       False       False   False        False   \n",
       "2   False    False       False       False   False        False   \n",
       "3   False    False       False       False   False        False   \n",
       "4   False    False       False       False   False        False   \n",
       "..    ...      ...         ...         ...     ...          ...   \n",
       "56  False    False       False       False   False        False   \n",
       "57  False    False       False       False   False        False   \n",
       "58  False    False       False       False   False        False   \n",
       "59  False    False       False       False   False        False   \n",
       "60  False    False       False       False   False        False   \n",
       "\n",
       "    num-of-cylinders  horsepower  average-mileage  price  \n",
       "0              False       False            False  False  \n",
       "1              False       False            False  False  \n",
       "2              False       False            False  False  \n",
       "3              False       False            False  False  \n",
       "4              False       False            False  False  \n",
       "..               ...         ...              ...    ...  \n",
       "56             False       False            False  False  \n",
       "57             False       False            False  False  \n",
       "58             False       False            False  False  \n",
       "59             False       False            False  False  \n",
       "60             False       False            False  False  \n",
       "\n",
       "[61 rows x 10 columns]"
      ]
     },
     "execution_count": 28,
     "metadata": {},
     "output_type": "execute_result"
    }
   ],
   "source": [
    "df.isnull()"
   ]
  },
  {
   "cell_type": "markdown",
   "id": "c4ae8fcc",
   "metadata": {},
   "source": [
    "## for entire dataframe##\n"
   ]
  },
  {
   "cell_type": "code",
   "execution_count": 29,
   "id": "2ae5c3cf",
   "metadata": {},
   "outputs": [
    {
     "data": {
      "text/plain": [
       "<bound method NDFrame._add_numeric_operations.<locals>.any of index               False\n",
       "company             False\n",
       "body-style          False\n",
       "wheel-base          False\n",
       "length              False\n",
       "engine-type         False\n",
       "num-of-cylinders    False\n",
       "horsepower          False\n",
       "average-mileage     False\n",
       "price                True\n",
       "dtype: bool>"
      ]
     },
     "execution_count": 29,
     "metadata": {},
     "output_type": "execute_result"
    }
   ],
   "source": [
    "df.isnull().any().any"
   ]
  },
  {
   "cell_type": "markdown",
   "id": "e9391b63",
   "metadata": {},
   "source": [
    "## Columns with NaN using integer"
   ]
  },
  {
   "cell_type": "code",
   "execution_count": 30,
   "id": "205f4bcf",
   "metadata": {},
   "outputs": [
    {
     "data": {
      "text/plain": [
       "index               0\n",
       "company             0\n",
       "body-style          0\n",
       "wheel-base          0\n",
       "length              0\n",
       "engine-type         0\n",
       "num-of-cylinders    0\n",
       "horsepower          0\n",
       "average-mileage     0\n",
       "price               3\n",
       "dtype: int64"
      ]
     },
     "execution_count": 30,
     "metadata": {},
     "output_type": "execute_result"
    }
   ],
   "source": [
    "df.isnull().sum()"
   ]
  },
  {
   "cell_type": "markdown",
   "id": "46a7de98",
   "metadata": {},
   "source": [
    "## Filling Missing Data ##"
   ]
  },
  {
   "cell_type": "code",
   "execution_count": 31,
   "id": "4e04288d",
   "metadata": {},
   "outputs": [
    {
     "data": {
      "text/plain": [
       "15387.0"
      ]
     },
     "execution_count": 31,
     "metadata": {},
     "output_type": "execute_result"
    }
   ],
   "source": [
    "df['price'].mean()"
   ]
  },
  {
   "cell_type": "code",
   "execution_count": 38,
   "id": "3e9caeee",
   "metadata": {},
   "outputs": [
    {
     "data": {
      "text/plain": [
       "0     13495.0\n",
       "1     16500.0\n",
       "2     16500.0\n",
       "3     13950.0\n",
       "4     17450.0\n",
       "       ...   \n",
       "56     7975.0\n",
       "57     7995.0\n",
       "58     9995.0\n",
       "59    12940.0\n",
       "60    13415.0\n",
       "Name: price, Length: 61, dtype: float64"
      ]
     },
     "execution_count": 38,
     "metadata": {},
     "output_type": "execute_result"
    }
   ],
   "source": [
    "df_with_mean"
   ]
  },
  {
   "cell_type": "code",
   "execution_count": 41,
   "id": "53e37ee9",
   "metadata": {},
   "outputs": [],
   "source": [
    "df_with_mean = df['price'].fillna(df['price'].mean())\n"
   ]
  },
  {
   "cell_type": "code",
   "execution_count": 42,
   "id": "9b956fc9",
   "metadata": {},
   "outputs": [
    {
     "data": {
      "text/plain": [
       "index               0\n",
       "company             0\n",
       "body-style          0\n",
       "wheel-base          0\n",
       "length              0\n",
       "engine-type         0\n",
       "num-of-cylinders    0\n",
       "horsepower          0\n",
       "average-mileage     0\n",
       "price               3\n",
       "dtype: int64"
      ]
     },
     "execution_count": 42,
     "metadata": {},
     "output_type": "execute_result"
    }
   ],
   "source": [
    "df.isnull().sum()"
   ]
  },
  {
   "cell_type": "code",
   "execution_count": 43,
   "id": "0c04687f",
   "metadata": {},
   "outputs": [
    {
     "name": "stdout",
     "output_type": "stream",
     "text": [
      "3\n"
     ]
    }
   ],
   "source": [
    "print(df['price'].isnull().sum())\n"
   ]
  },
  {
   "cell_type": "code",
   "execution_count": 44,
   "id": "a2cad9c3",
   "metadata": {},
   "outputs": [
    {
     "name": "stdout",
     "output_type": "stream",
     "text": [
      "15387.0\n"
     ]
    }
   ],
   "source": [
    "print(df['price'].mean())\n"
   ]
  },
  {
   "cell_type": "code",
   "execution_count": 46,
   "id": "b23296fc",
   "metadata": {},
   "outputs": [
    {
     "data": {
      "text/plain": [
       "index               0\n",
       "company             0\n",
       "body-style          0\n",
       "wheel-base          0\n",
       "length              0\n",
       "engine-type         0\n",
       "num-of-cylinders    0\n",
       "horsepower          0\n",
       "average-mileage     0\n",
       "price               0\n",
       "dtype: int64"
      ]
     },
     "execution_count": 46,
     "metadata": {},
     "output_type": "execute_result"
    }
   ],
   "source": [
    "df.isnull().sum()"
   ]
  },
  {
   "cell_type": "code",
   "execution_count": 47,
   "id": "cae17a25",
   "metadata": {},
   "outputs": [
    {
     "data": {
      "text/plain": [
       "0     13495.0\n",
       "1     16500.0\n",
       "2     16500.0\n",
       "3     13950.0\n",
       "4     17450.0\n",
       "       ...   \n",
       "56     7975.0\n",
       "57     7995.0\n",
       "58     9995.0\n",
       "59    12940.0\n",
       "60    13415.0\n",
       "Name: price, Length: 61, dtype: float64"
      ]
     },
     "execution_count": 47,
     "metadata": {},
     "output_type": "execute_result"
    }
   ],
   "source": [
    "df_with_mean"
   ]
  },
  {
   "cell_type": "markdown",
   "id": "d12fce61",
   "metadata": {},
   "source": [
    "## Find the most expensive car company name. Print most expensive car’s company name\n",
    "## and price.\n"
   ]
  },
  {
   "cell_type": "code",
   "execution_count": null,
   "id": "5334af41",
   "metadata": {},
   "outputs": [],
   "source": [
    "# Group by company and find the maximum price for each company"
   ]
  },
  {
   "cell_type": "code",
   "execution_count": 48,
   "id": "83b15212",
   "metadata": {},
   "outputs": [],
   "source": [
    "max_prices = df.groupby('company')['price'].max()"
   ]
  },
  {
   "cell_type": "markdown",
   "id": "f2b2cbfa",
   "metadata": {},
   "source": [
    "# Find the company with the highest maximum price"
   ]
  },
  {
   "cell_type": "code",
   "execution_count": 49,
   "id": "147b9c54",
   "metadata": {},
   "outputs": [],
   "source": [
    "most_expensive_company = max_prices.idxmax()\n",
    "max_price = max_prices.max()"
   ]
  },
  {
   "cell_type": "markdown",
   "id": "a532265c",
   "metadata": {},
   "source": [
    "## Most expensive car company"
   ]
  },
  {
   "cell_type": "code",
   "execution_count": 50,
   "id": "6742e172",
   "metadata": {},
   "outputs": [
    {
     "name": "stdout",
     "output_type": "stream",
     "text": [
      "Most Expensive Car Company: mercedes-benz\n"
     ]
    }
   ],
   "source": [
    "print(\"Most Expensive Car Company:\", most_expensive_company)"
   ]
  },
  {
   "cell_type": "code",
   "execution_count": 51,
   "id": "6c1f9e5c",
   "metadata": {},
   "outputs": [
    {
     "name": "stdout",
     "output_type": "stream",
     "text": [
      "Price of the Most Expensive Car: 45400.0\n"
     ]
    }
   ],
   "source": [
    "print(\"Price of the Most Expensive Car:\", max_price)"
   ]
  },
  {
   "cell_type": "code",
   "execution_count": null,
   "id": "93997db7",
   "metadata": {},
   "outputs": [],
   "source": []
  },
  {
   "cell_type": "code",
   "execution_count": 55,
   "id": "535e5136",
   "metadata": {},
   "outputs": [],
   "source": [
    "toyota_cars = df[df['company'] == 'oyota']\n"
   ]
  },
  {
   "cell_type": "code",
   "execution_count": 56,
   "id": "44d64856",
   "metadata": {},
   "outputs": [
    {
     "name": "stdout",
     "output_type": "stream",
     "text": [
      "    index company body-style  wheel-base  length engine-type num-of-cylinders  \\\n",
      "48     66  toyota  hatchback        95.7   158.7         ohc             four   \n",
      "49     67  toyota  hatchback        95.7   158.7         ohc             four   \n",
      "50     68  toyota  hatchback        95.7   158.7         ohc             four   \n",
      "51     69  toyota      wagon        95.7   169.7         ohc             four   \n",
      "52     70  toyota      wagon        95.7   169.7         ohc             four   \n",
      "53     71  toyota      wagon        95.7   169.7         ohc             four   \n",
      "54     79  toyota      wagon       104.5   187.8        dohc              six   \n",
      "\n",
      "    horsepower  average-mileage    price  \n",
      "48          62               35   5348.0  \n",
      "49          62               31   6338.0  \n",
      "50          62               31   6488.0  \n",
      "51          62               31   6918.0  \n",
      "52          62               27   7898.0  \n",
      "53          62               27   8778.0  \n",
      "54         156               19  15750.0  \n"
     ]
    }
   ],
   "source": [
    "print(oyota_cars)"
   ]
  },
  {
   "cell_type": "code",
   "execution_count": 54,
   "id": "67d6d4da",
   "metadata": {},
   "outputs": [
    {
     "name": "stdout",
     "output_type": "stream",
     "text": [
      "['alfa-romero' 'audi' 'bmw' 'chevrolet' 'dodge' 'honda' 'isuzu' 'jaguar'\n",
      " 'mazda' 'mercedes-benz' 'mitsubishi' 'nissan' 'porsche' 'toyota'\n",
      " 'volkswagen' 'volvo']\n"
     ]
    }
   ],
   "source": [
    "print(df['company'].unique())"
   ]
  },
  {
   "cell_type": "markdown",
   "id": "67856165",
   "metadata": {},
   "source": [
    "## Count total cars per company"
   ]
  },
  {
   "cell_type": "code",
   "execution_count": 58,
   "id": "9d72c4d8",
   "metadata": {},
   "outputs": [],
   "source": [
    "cars_per_company = df['company'].value_counts()\n"
   ]
  },
  {
   "cell_type": "code",
   "execution_count": 59,
   "id": "60f642ab",
   "metadata": {},
   "outputs": [
    {
     "name": "stdout",
     "output_type": "stream",
     "text": [
      "toyota           7\n",
      "bmw              6\n",
      "mazda            5\n",
      "nissan           5\n",
      "mitsubishi       4\n",
      "volkswagen       4\n",
      "audi             4\n",
      "mercedes-benz    4\n",
      "porsche          3\n",
      "honda            3\n",
      "isuzu            3\n",
      "alfa-romero      3\n",
      "jaguar           3\n",
      "chevrolet        3\n",
      "dodge            2\n",
      "volvo            2\n",
      "Name: company, dtype: int64\n"
     ]
    }
   ],
   "source": [
    "print(cars_per_company)"
   ]
  },
  {
   "cell_type": "markdown",
   "id": "7879f4c1",
   "metadata": {},
   "source": [
    "## Find each company’s Higesht price car"
   ]
  },
  {
   "cell_type": "code",
   "execution_count": 60,
   "id": "9e2dee0e",
   "metadata": {},
   "outputs": [],
   "source": [
    "highest_price_per_company = df.groupby('company')['price'].max()"
   ]
  },
  {
   "cell_type": "code",
   "execution_count": 61,
   "id": "35b3e8c9",
   "metadata": {},
   "outputs": [
    {
     "name": "stdout",
     "output_type": "stream",
     "text": [
      "company\n",
      "alfa-romero      16500.0\n",
      "audi             18920.0\n",
      "bmw              41315.0\n",
      "chevrolet         6575.0\n",
      "dodge             6377.0\n",
      "honda            12945.0\n",
      "isuzu            15387.0\n",
      "jaguar           36000.0\n",
      "mazda            18344.0\n",
      "mercedes-benz    45400.0\n",
      "mitsubishi        8189.0\n",
      "nissan           13499.0\n",
      "porsche          37028.0\n",
      "toyota           15750.0\n",
      "volkswagen        9995.0\n",
      "volvo            13415.0\n",
      "Name: price, dtype: float64\n"
     ]
    }
   ],
   "source": [
    "print(highest_price_per_company)"
   ]
  },
  {
   "cell_type": "markdown",
   "id": "cc9ef037",
   "metadata": {},
   "source": [
    "## Find the average mileage of each car making company\n"
   ]
  },
  {
   "cell_type": "code",
   "execution_count": 62,
   "id": "0c893082",
   "metadata": {},
   "outputs": [],
   "source": [
    "average_mileage_per_company = df.groupby('company')['average-mileage'].mean()"
   ]
  },
  {
   "cell_type": "code",
   "execution_count": 63,
   "id": "9267f505",
   "metadata": {},
   "outputs": [
    {
     "name": "stdout",
     "output_type": "stream",
     "text": [
      "company\n",
      "alfa-romero      20.333333\n",
      "audi             20.000000\n",
      "bmw              19.000000\n",
      "chevrolet        41.000000\n",
      "dodge            31.000000\n",
      "honda            26.333333\n",
      "isuzu            33.333333\n",
      "jaguar           14.333333\n",
      "mazda            28.000000\n",
      "mercedes-benz    18.000000\n",
      "mitsubishi       29.500000\n",
      "nissan           31.400000\n",
      "porsche          17.000000\n",
      "toyota           28.714286\n",
      "volkswagen       31.750000\n",
      "volvo            23.000000\n",
      "Name: average-mileage, dtype: float64\n"
     ]
    }
   ],
   "source": [
    "print(average_mileage_per_company)"
   ]
  },
  {
   "cell_type": "markdown",
   "id": "e87f5ad2",
   "metadata": {},
   "source": [
    "## Sort all cars by Price column"
   ]
  },
  {
   "cell_type": "code",
   "execution_count": 64,
   "id": "c6ba3236",
   "metadata": {},
   "outputs": [],
   "source": [
    "sorted_cars = df.sort_values(by='price', ascending=False)"
   ]
  },
  {
   "cell_type": "code",
   "execution_count": 65,
   "id": "012efbe8",
   "metadata": {},
   "outputs": [
    {
     "name": "stdout",
     "output_type": "stream",
     "text": [
      "    index        company   body-style  wheel-base  length engine-type  \\\n",
      "35     47  mercedes-benz      hardtop       112.0   199.2        ohcv   \n",
      "11     14            bmw        sedan       103.5   193.8         ohc   \n",
      "34     46  mercedes-benz        sedan       120.9   208.1        ohcv   \n",
      "46     62        porsche  convertible        89.5   168.9        ohcf   \n",
      "12     15            bmw        sedan       110.0   197.0         ohc   \n",
      "..    ...            ...          ...         ...     ...         ...   \n",
      "28     37          mazda    hatchback        93.1   159.1         ohc   \n",
      "36     49     mitsubishi    hatchback        93.7   157.3         ohc   \n",
      "48     66         toyota    hatchback        95.7   158.7         ohc   \n",
      "27     36          mazda    hatchback        93.1   159.1         ohc   \n",
      "13     16      chevrolet    hatchback        88.4   141.1           l   \n",
      "\n",
      "   num-of-cylinders  horsepower  average-mileage    price  \n",
      "35            eight         184               14  45400.0  \n",
      "11              six         182               16  41315.0  \n",
      "34            eight         184               14  40960.0  \n",
      "46              six         207               17  37028.0  \n",
      "12              six         182               15  36880.0  \n",
      "..              ...         ...              ...      ...  \n",
      "28             four          68               31   6095.0  \n",
      "36             four          68               37   5389.0  \n",
      "48             four          62               35   5348.0  \n",
      "27             four          68               30   5195.0  \n",
      "13            three          48               47   5151.0  \n",
      "\n",
      "[61 rows x 10 columns]\n"
     ]
    }
   ],
   "source": [
    "print(sorted_cars)"
   ]
  },
  {
   "cell_type": "markdown",
   "id": "793d092f",
   "metadata": {},
   "source": [
    "### Create two data frames using the following two dictionaries\n",
    "### GermanCars = {'Company': ['Ford', 'Mercedes', 'BMV', 'Audi'], 'Price': [23845, 171995,\n",
    "### 135925 , 71400]}\n",
    "### japaneseCars = {'Company': ['Toyota', 'Honda', 'Nissan', 'Mitsubishi '], 'Price': [29995,\n",
    "### 23600, 61500 , 58900]}\n"
   ]
  },
  {
   "cell_type": "code",
   "execution_count": 66,
   "id": "653cd072",
   "metadata": {},
   "outputs": [],
   "source": [
    "import pandas as pd"
   ]
  },
  {
   "cell_type": "markdown",
   "id": "26911499",
   "metadata": {},
   "source": [
    "## Define the dictionaries"
   ]
  },
  {
   "cell_type": "code",
   "execution_count": 67,
   "id": "20cfad0f",
   "metadata": {},
   "outputs": [],
   "source": [
    "GermanCars = {'Company': ['Ford', 'Mercedes', 'BMV', 'Audi'], 'Price': [23845, 171995, 135925 , 71400]}\n",
    "japaneseCars = {'Company': ['Toyota', 'Honda', 'Nissan', 'Mitsubishi'], 'Price': [29995, 23600, 61500 , 58900]}\n"
   ]
  },
  {
   "cell_type": "markdown",
   "id": "b40961b4",
   "metadata": {},
   "source": [
    "## Create DataFrames"
   ]
  },
  {
   "cell_type": "code",
   "execution_count": 68,
   "id": "6d86a51a",
   "metadata": {},
   "outputs": [],
   "source": [
    "df_german_cars = pd.DataFrame(GermanCars)\n",
    "df_japanese_cars = pd.DataFrame(japaneseCars)"
   ]
  },
  {
   "cell_type": "code",
   "execution_count": 75,
   "id": "7bda6b03",
   "metadata": {},
   "outputs": [
    {
     "name": "stdout",
     "output_type": "stream",
     "text": [
      "German Cars DataFrame:\n",
      "    Company   Price\n",
      "0      Ford   23845\n",
      "1  Mercedes  171995\n",
      "2       BMV  135925\n",
      "3      Audi   71400\n",
      "\n",
      "Japanese Cars DataFrame:\n",
      "      Company  Price\n",
      "0      Toyota  29995\n",
      "1       Honda  23600\n",
      "2      Nissan  61500\n",
      "3  Mitsubishi  58900\n"
     ]
    }
   ],
   "source": [
    "print(\"German Cars DataFrame:\")\n",
    "print(df_german_cars)\n",
    "print(\"\\nJapanese Cars DataFrame:\")\n",
    "print(df_japanese_cars)"
   ]
  },
  {
   "cell_type": "code",
   "execution_count": null,
   "id": "f9357cc0",
   "metadata": {},
   "outputs": [],
   "source": []
  },
  {
   "cell_type": "code",
   "execution_count": null,
   "id": "a8619e81",
   "metadata": {},
   "outputs": [],
   "source": []
  }
 ],
 "metadata": {
  "kernelspec": {
   "display_name": "Python 3",
   "language": "python",
   "name": "python3"
  },
  "language_info": {
   "codemirror_mode": {
    "name": "ipython",
    "version": 3
   },
   "file_extension": ".py",
   "mimetype": "text/x-python",
   "name": "python",
   "nbconvert_exporter": "python",
   "pygments_lexer": "ipython3",
   "version": "3.8.8"
  }
 },
 "nbformat": 4,
 "nbformat_minor": 5
}
